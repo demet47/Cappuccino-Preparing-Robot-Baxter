{
 "cells": [
  {
   "cell_type": "code",
   "execution_count": 1,
   "metadata": {},
   "outputs": [],
   "source": [
    "import os\n",
    "# os.environ[\"CUDA_DEVICE_ORDER\"] = \"PCI_BUS_ID\"\n",
    "os.environ[\"CUDA_VISIBLE_DEVICES\"] = \"0\"\n",
    "import tensorflow as tf\n",
    "import numpy as np\n",
    "import tensorflow_probability as tfp\n",
    "import matplotlib.pyplot as plt\n",
    "import math\n",
    "import random\n",
    "from keras.models import Sequential,Model\n",
    "from keras.layers import TimeDistributed,Dense,Activation,Layer,Input,Average,Concatenate,Flatten,Lambda\n",
    "from keras.optimizers import Adam\n",
    "import pylab as pl\n",
    "from IPython import display\n",
    "import numpy as np\n",
    "import csv\n",
    "import data_format"
   ]
  },
  {
   "cell_type": "code",
   "execution_count": 2,
   "metadata": {},
   "outputs": [],
   "source": [
    "def csv_to_array(csv_file_name):\n",
    "    data = []\n",
    "    flag = True\n",
    "    with open(csv_file_name, 'r') as file:\n",
    "        csv_reader = csv.reader(file)\n",
    "        for row in csv_reader:\n",
    "            if(flag):\n",
    "                flag = False\n",
    "                continue\n",
    "            data.append(row)\n",
    "    \n",
    "    data = np.array(data)"
   ]
  },
  {
   "cell_type": "code",
   "execution_count": 3,
   "metadata": {},
   "outputs": [
    {
     "name": "stderr",
     "output_type": "stream",
     "text": [
      "C:\\Users\\dmtya\\Cappuccino-Preparing-Robot-Baxter\\Task Parameterization and Generalization\\data_format.py:29: VisibleDeprecationWarning: Creating an ndarray from ragged nested sequences (which is a list-or-tuple of lists-or-tuples-or ndarrays with different lengths or shapes) is deprecated. If you meant to do this, you must specify 'dtype=object' when creating the ndarray.\n",
      "  return np.array(data), max_size\n"
     ]
    }
   ],
   "source": [
    "d_N = 1\n",
    "n_max=1 # maximum number of observations that can be used during the training process\n",
    "a,b,c,d = data_format.data_per_trajectory('C:/Users/dmtya/Cappuccino-Preparing-Robot-Baxter/carry_data/train1', True)\n",
    "train_joints = np.array(a)[:, :8, :] #for left arm\n",
    "train_n = np.array(b)\n",
    "train_t = np.array(c)  \n",
    "train_p = np.array(d)"
   ]
  },
  {
   "cell_type": "code",
   "execution_count": 4,
   "metadata": {},
   "outputs": [
    {
     "data": {
      "text/plain": [
       "array([[0.57734376, 0.80859375],\n",
       "       [0.57734376, 0.80859375]], dtype=float32)"
      ]
     },
     "execution_count": 4,
     "metadata": {},
     "output_type": "execute_result"
    }
   ],
   "source": [
    "train_p"
   ]
  },
  {
   "cell_type": "code",
   "execution_count": 5,
   "metadata": {},
   "outputs": [
    {
     "data": {
      "text/plain": [
       "array([[0.57734376, 0.80859375],\n",
       "       [0.57734376, 0.80859375]], dtype=float32)"
      ]
     },
     "execution_count": 5,
     "metadata": {},
     "output_type": "execute_result"
    }
   ],
   "source": [
    "train_p"
   ]
  },
  {
   "cell_type": "code",
   "execution_count": 6,
   "metadata": {},
   "outputs": [
    {
     "data": {
      "text/plain": [
       "(2, 8, 3866)"
      ]
     },
     "execution_count": 6,
     "metadata": {},
     "output_type": "execute_result"
    }
   ],
   "source": [
    "train_joints.shape"
   ]
  },
  {
   "cell_type": "code",
   "execution_count": 7,
   "metadata": {},
   "outputs": [
    {
     "data": {
      "text/plain": [
       "array([[[-2.68446631e-03, -5.46864152e-01,  3.06796166e-03, ...,\n",
       "          9.56239853e+01,  4.60194238e-03, -5.48398137e-01],\n",
       "        [-1.91747595e-03,  7.53568053e-01,  2.30097119e-03, ...,\n",
       "         -5.47631145e-01,  2.68446631e-03,  7.52801061e-01],\n",
       "        [-3.06796166e-03,  1.25556326e+00,  1.53398083e-03, ...,\n",
       "          1.95659244e+00, -1.34223318e-02, -1.25786424e-01],\n",
       "        ...,\n",
       "        [ 3.06796166e-03,  7.53951550e-01, -2.68446631e-03, ...,\n",
       "         -2.04402938e-01, -1.02009721e-01,  1.17924774e+00],\n",
       "        [-1.25019431e-01, -4.81286466e-01,  1.20033994e-01, ...,\n",
       "          7.52801061e-01, -2.68446631e-03,  1.25479627e+00],\n",
       "        [ 1.91747595e-03,  9.56239853e+01,  8.89325380e-01, ...,\n",
       "         -4.00368989e-01,  1.20417491e-01,  9.56168823e+01]],\n",
       "\n",
       "       [[-3.06796166e-03, -5.46480656e-01,  2.30097119e-03, ...,\n",
       "          9.56239853e+01,  3.83495190e-03, -5.39961219e-01],\n",
       "        [-4.60194238e-03,  7.71975815e-01,  1.15048559e-03, ...,\n",
       "         -5.46097159e-01,  1.91747595e-03,  7.52801061e-01],\n",
       "        [-2.30097119e-03,  1.25479627e+00,  1.91747595e-03, ...,\n",
       "          1.71767497e+00,  5.75242797e-03,  5.93267083e-01],\n",
       "        ...,\n",
       "        [ 3.06796166e-03,  7.50883579e-01, -3.06796166e-03, ...,\n",
       "         -1.14665061e-01, -1.79475754e-01,  1.12479138e+00],\n",
       "        [-7.28640892e-03, -6.69582605e-01,  3.22135948e-02, ...,\n",
       "          7.53951550e-01, -3.06796166e-03,  1.25594676e+00],\n",
       "        [ 2.30097119e-03,  9.56239853e+01,  9.18854475e-01, ...,\n",
       "         -6.03621423e-01,  3.64320427e-02,  9.54545441e+01]]],\n",
       "      dtype=float32)"
      ]
     },
     "execution_count": 7,
     "metadata": {},
     "output_type": "execute_result"
    }
   ],
   "source": [
    "train_joints[:, :8, :]"
   ]
  },
  {
   "cell_type": "code",
   "execution_count": 8,
   "metadata": {},
   "outputs": [],
   "source": [
    "def get_train_sample():\n",
    "    observation = np.zeros((1,n_max,11))\n",
    "    observation_flag = np.zeros((1,1,n_max))\n",
    "    target = np.zeros((1,1,3)) # t, ob_p, w_p  \n",
    "    gamma = random.randint(0,d_N-1)\n",
    "    ob_p = train_p[gamma,0]\n",
    "    w_p = train_p[gamma,1]\n",
    "    obs_n = random.randint(1,n_max)\n",
    "    \n",
    "    perm = np.random.permutation(train_n[gamma])\n",
    "    \n",
    "    for i in range(obs_n):\n",
    "        observation[0,i] = [train_t[gamma,perm[i]],\n",
    "                            ob_p, # 0,1,2 -> 1/3,2/3,1\n",
    "                            w_p, # 0,1,2,3 -> 1/4,2/4,3/4,1\n",
    "                            train_joints[gamma,0,perm[i]],\n",
    "                            train_joints[gamma,1,perm[i]],\n",
    "                            train_joints[gamma,2,perm[i]],\n",
    "                            train_joints[gamma,3,perm[i]],\n",
    "                            train_joints[gamma,4,perm[i]],\n",
    "                            train_joints[gamma,5,perm[i]],\n",
    "                            train_joints[gamma,6,perm[i]],\n",
    "                            train_joints[gamma,7,perm[i]]\n",
    "                           ]\n",
    "        observation_flag[0,0,i] = 1./obs_n\n",
    "    target[0,0] = [train_t[gamma,perm[obs_n]], ob_p, w_p]\n",
    "    return [observation,observation_flag,target], \\\n",
    "            [[[[train_joints[gamma,0,perm[obs_n]],\n",
    "                train_joints[gamma,1,perm[obs_n]],\n",
    "                train_joints[gamma,2,perm[obs_n]],\n",
    "                train_joints[gamma,3,perm[obs_n]],\n",
    "                train_joints[gamma,4,perm[obs_n]],\n",
    "                train_joints[gamma,5,perm[obs_n]],\n",
    "                train_joints[gamma,6,perm[obs_n]],\n",
    "                train_joints[gamma,7,perm[obs_n]]\n",
    "                ]]]],gamma"
   ]
  },
  {
   "cell_type": "code",
   "execution_count": 9,
   "metadata": {},
   "outputs": [],
   "source": [
    "def plt_predictions(gamma=1): \n",
    "    ob_p=train_p[gamma,0]\n",
    "    w_p=train_p[gamma,1]\n",
    "    prediction = np.zeros((8,train_n[gamma]))\n",
    "    prediction_std = np.zeros((8,train_n[gamma])) #TODO: 6?\n",
    "    observation = np.zeros((1,n_max,11))\n",
    "    observation_flag = np.zeros((1,1,n_max))\n",
    "    target = np.zeros((1,1,3))\n",
    "    observation[0,0] = [0,ob_p,w_p,\n",
    "                        train_joints[gamma,0,0],\n",
    "                        train_joints[gamma,1,0],\n",
    "                        train_joints[gamma,2,0],\n",
    "                        train_joints[gamma,3,0],\n",
    "                        train_joints[gamma,4,0],\n",
    "                        train_joints[gamma,5,0],\n",
    "                        train_joints[gamma,6,0],\n",
    "                        train_joints[gamma,7,0]]\n",
    "    observation_flag[0,0,0] = 1.\n",
    "    joint_names = ['a','b','c','d','e','f','g','h']        \n",
    "    for i in range(train_n[gamma]):\n",
    "        target[0,0] = [train_t[gamma,i],ob_p,w_p]\n",
    "        p = model.predict([observation,observation_flag,target])[0][0]\n",
    "        prediction[:,i] = p[:8]\n",
    "        for j in range(8):\n",
    "            prediction_std[j,i] = math.log(1+math.exp(p[j]))#TODO: dont understand here. did I do right?\n",
    "    for joint in range(8):\n",
    "        fig = plt.figure(figsize=(5,5))\n",
    "        plt.title(joint_names[joint])\n",
    "        # if joint == 4:\n",
    "        #     plt.ylim(-1.35,-1.75)\n",
    "        for i in range(d_N):\n",
    "            plt.plot(range(train_n[i]),train_joints[i,joint,:train_n[i]])\n",
    "        plt.plot(range(train_n[gamma]),prediction[joint,:train_n[gamma]],color='red')\n",
    "        plt.errorbar(range(train_n[gamma]),prediction[joint,:train_n[gamma]],yerr=prediction_std[2,:train_n[gamma]],color = 'red',alpha=0.1)\n",
    "        plt.show()"
   ]
  },
  {
   "cell_type": "code",
   "execution_count": 10,
   "metadata": {},
   "outputs": [],
   "source": [
    "def custom_loss(y_true, y_pred):\n",
    "    mean, log_sigma = tf.split(y_pred, 2, axis=-1)\n",
    "    y_target, temp =tf.split(y_true,2,axis=-1)\n",
    "    sigma = tf.nn.softplus(log_sigma)\n",
    "    dist = tfp.distributions.MultivariateNormalDiag(loc=mean, scale_diag=sigma)\n",
    "    loss = -tf.reduce_mean(dist.log_prob(y_target))\n",
    "    return loss"
   ]
  },
  {
   "cell_type": "code",
   "execution_count": 11,
   "metadata": {},
   "outputs": [
    {
     "name": "stdout",
     "output_type": "stream",
     "text": [
      "Model: \"model\"\n",
      "__________________________________________________________________________________________________\n",
      " Layer (type)                   Output Shape         Param #     Connected to                     \n",
      "==================================================================================================\n",
      " input_1 (InputLayer)           [(None, 1, 11)]      0           []                               \n",
      "                                                                                                  \n",
      " time_distributed (TimeDistribu  (None, 1, 128)      1536        ['input_1[0][0]']                \n",
      " ted)                                                                                             \n",
      "                                                                                                  \n",
      " time_distributed_1 (TimeDistri  (None, 1, 128)      16512       ['time_distributed[0][0]']       \n",
      " buted)                                                                                           \n",
      "                                                                                                  \n",
      " time_distributed_2 (TimeDistri  (None, 1, 128)      16512       ['time_distributed_1[0][0]']     \n",
      " buted)                                                                                           \n",
      "                                                                                                  \n",
      " time_distributed_3 (TimeDistri  (None, 1, 128)      16512       ['time_distributed_2[0][0]']     \n",
      " buted)                                                                                           \n",
      "                                                                                                  \n",
      " input_2 (InputLayer)           [(None, 1, 1)]       0           []                               \n",
      "                                                                                                  \n",
      " time_distributed_4 (TimeDistri  (None, 1, 128)      16512       ['time_distributed_3[0][0]']     \n",
      " buted)                                                                                           \n",
      "                                                                                                  \n",
      " lambda (Lambda)                (None, 1, 128)       0           ['input_2[0][0]',                \n",
      "                                                                  'time_distributed_4[0][0]']     \n",
      "                                                                                                  \n",
      " input_3 (InputLayer)           [(None, 1, 3)]       0           []                               \n",
      "                                                                                                  \n",
      " concatenate (Concatenate)      (None, 1, 131)       0           ['lambda[0][0]',                 \n",
      "                                                                  'input_3[0][0]']                \n",
      "                                                                                                  \n",
      " dense_5 (Dense)                (None, 1, 128)       16896       ['concatenate[0][0]']            \n",
      "                                                                                                  \n",
      " dense_6 (Dense)                (None, 1, 128)       16512       ['dense_5[0][0]']                \n",
      "                                                                                                  \n",
      " dense_7 (Dense)                (None, 1, 128)       16512       ['dense_6[0][0]']                \n",
      "                                                                                                  \n",
      " dense_8 (Dense)                (None, 1, 128)       16512       ['dense_7[0][0]']                \n",
      "                                                                                                  \n",
      " dense_9 (Dense)                (None, 1, 8)         1032        ['dense_8[0][0]']                \n",
      "                                                                                                  \n",
      "==================================================================================================\n",
      "Total params: 135,048\n",
      "Trainable params: 135,048\n",
      "Non-trainable params: 0\n",
      "__________________________________________________________________________________________________\n"
     ]
    },
    {
     "name": "stderr",
     "output_type": "stream",
     "text": [
      "c:\\users\\dmtya\\appdata\\local\\programs\\python\\python37\\lib\\site-packages\\keras\\optimizers\\legacy\\adam.py:117: UserWarning: The `lr` argument is deprecated, use `learning_rate` instead.\n",
      "  super().__init__(name, **kwargs)\n"
     ]
    }
   ],
   "source": [
    "observation_layer = Input(shape=(n_max,11))\n",
    "observation_flag_layer=Input(shape=(1,n_max)) \n",
    "observation_encoded = TimeDistributed(Dense(128, activation='relu'))(observation_layer)\n",
    "observation_encoded = TimeDistributed(Dense(128, activation='relu'))(observation_encoded)\n",
    "observation_encoded = TimeDistributed(Dense(128, activation='relu'))(observation_encoded)\n",
    "observation_encoded = TimeDistributed(Dense(128, activation='relu'))(observation_encoded)\n",
    "observation_encoded = TimeDistributed(Dense(128))(observation_encoded)\n",
    "matmul_layer=Lambda(lambda x:(tf.matmul(x[0],x[1])), output_shape =(1,128))\n",
    "representation=matmul_layer([observation_flag_layer,observation_encoded])\n",
    "target_layer = Input(shape=(1,3))\n",
    "query_net_input = Concatenate(axis=2)([representation, target_layer])\n",
    "query = Dense(128, activation='relu')(query_net_input)\n",
    "query = Dense(128, activation='relu')(query)\n",
    "query = Dense(128, activation='relu')(query)\n",
    "query = Dense(128, activation='relu')(query)\n",
    "output_layer = Dense(8)(query)\n",
    "model = Model(inputs=[observation_layer,observation_flag_layer,target_layer],outputs=output_layer)\n",
    "model.compile(optimizer = Adam(lr = 1e-4),loss=custom_loss)\n",
    "model.summary()"
   ]
  },
  {
   "cell_type": "code",
   "execution_count": 12,
   "metadata": {
    "scrolled": false
   },
   "outputs": [
    {
     "data": {
      "text/plain": [
       "<Figure size 640x480 with 0 Axes>"
      ]
     },
     "metadata": {},
     "output_type": "display_data"
    },
    {
     "name": "stdout",
     "output_type": "stream",
     "text": [
      "step: 0\n",
      "loss: 2.1892409324645996\n"
     ]
    },
    {
     "data": {
      "image/png": "[encoded data removed]",
      "text/plain": [
       "<Figure size 640x480 with 1 Axes>"
      ]
     },
     "metadata": {},
     "output_type": "display_data"
    },
    {
     "data": {
      "image/png": "[encoded data removed]",
      "text/plain": [
       "<Figure size 640x480 with 1 Axes>"
      ]
     },
     "metadata": {},
     "output_type": "display_data"
    },
    {
     "name": "stdout",
     "output_type": "stream",
     "text": [
      "1/1 [==============================] - 0s 299ms/step\n"
     ]
    },
    {
     "ename": "IndexError",
     "evalue": "index 8 is out of bounds for axis 0 with size 8",
     "output_type": "error",
     "traceback": [
      "\u001b[1;31m---------------------------------------------------------------------------\u001b[0m",
      "\u001b[1;31mIndexError\u001b[0m                                Traceback (most recent call last)",
      "\u001b[1;32m~\\AppData\\Local\\Temp\\ipykernel_15180\\1965182608.py\u001b[0m in \u001b[0;36m<module>\u001b[1;34m\u001b[0m\n\u001b[0;32m     23\u001b[0m         \u001b[0mplt\u001b[0m\u001b[1;33m.\u001b[0m\u001b[0mplot\u001b[0m\u001b[1;33m(\u001b[0m\u001b[0mrange\u001b[0m\u001b[1;33m(\u001b[0m\u001b[1;36m100\u001b[0m\u001b[1;33m)\u001b[0m\u001b[1;33m,\u001b[0m\u001b[0mmean_loss\u001b[0m\u001b[1;33m)\u001b[0m\u001b[1;33m\u001b[0m\u001b[1;33m\u001b[0m\u001b[0m\n\u001b[0;32m     24\u001b[0m         \u001b[0mplt\u001b[0m\u001b[1;33m.\u001b[0m\u001b[0mshow\u001b[0m\u001b[1;33m(\u001b[0m\u001b[1;33m)\u001b[0m\u001b[1;33m\u001b[0m\u001b[1;33m\u001b[0m\u001b[0m\n\u001b[1;32m---> 25\u001b[1;33m         \u001b[0mplt_predictions\u001b[0m\u001b[1;33m(\u001b[0m\u001b[1;36m0\u001b[0m\u001b[1;33m)\u001b[0m\u001b[1;33m\u001b[0m\u001b[1;33m\u001b[0m\u001b[0m\n\u001b[0m",
      "\u001b[1;32m~\\AppData\\Local\\Temp\\ipykernel_15180\\1295202150.py\u001b[0m in \u001b[0;36mplt_predictions\u001b[1;34m(gamma)\u001b[0m\n\u001b[0;32m     23\u001b[0m         \u001b[0mprediction\u001b[0m\u001b[1;33m[\u001b[0m\u001b[1;33m:\u001b[0m\u001b[1;33m,\u001b[0m\u001b[0mi\u001b[0m\u001b[1;33m]\u001b[0m \u001b[1;33m=\u001b[0m \u001b[0mp\u001b[0m\u001b[1;33m[\u001b[0m\u001b[1;33m:\u001b[0m\u001b[1;36m8\u001b[0m\u001b[1;33m]\u001b[0m\u001b[1;33m\u001b[0m\u001b[1;33m\u001b[0m\u001b[0m\n\u001b[0;32m     24\u001b[0m         \u001b[1;32mfor\u001b[0m \u001b[0mj\u001b[0m \u001b[1;32min\u001b[0m \u001b[0mrange\u001b[0m\u001b[1;33m(\u001b[0m\u001b[1;36m8\u001b[0m\u001b[1;33m)\u001b[0m\u001b[1;33m:\u001b[0m\u001b[1;33m\u001b[0m\u001b[1;33m\u001b[0m\u001b[0m\n\u001b[1;32m---> 25\u001b[1;33m             \u001b[0mprediction_std\u001b[0m\u001b[1;33m[\u001b[0m\u001b[0mj\u001b[0m\u001b[1;33m,\u001b[0m\u001b[0mi\u001b[0m\u001b[1;33m]\u001b[0m \u001b[1;33m=\u001b[0m \u001b[0mmath\u001b[0m\u001b[1;33m.\u001b[0m\u001b[0mlog\u001b[0m\u001b[1;33m(\u001b[0m\u001b[1;36m1\u001b[0m\u001b[1;33m+\u001b[0m\u001b[0mmath\u001b[0m\u001b[1;33m.\u001b[0m\u001b[0mexp\u001b[0m\u001b[1;33m(\u001b[0m\u001b[0mp\u001b[0m\u001b[1;33m[\u001b[0m\u001b[1;36m8\u001b[0m\u001b[1;33m+\u001b[0m\u001b[0mj\u001b[0m\u001b[1;33m]\u001b[0m\u001b[1;33m)\u001b[0m\u001b[1;33m)\u001b[0m\u001b[1;31m#TODO: dont understand here. did I do right?\u001b[0m\u001b[1;33m\u001b[0m\u001b[1;33m\u001b[0m\u001b[0m\n\u001b[0m\u001b[0;32m     26\u001b[0m     \u001b[1;32mfor\u001b[0m \u001b[0mjoint\u001b[0m \u001b[1;32min\u001b[0m \u001b[0mrange\u001b[0m\u001b[1;33m(\u001b[0m\u001b[1;36m8\u001b[0m\u001b[1;33m)\u001b[0m\u001b[1;33m:\u001b[0m\u001b[1;33m\u001b[0m\u001b[1;33m\u001b[0m\u001b[0m\n\u001b[0;32m     27\u001b[0m         \u001b[0mfig\u001b[0m \u001b[1;33m=\u001b[0m \u001b[0mplt\u001b[0m\u001b[1;33m.\u001b[0m\u001b[0mfigure\u001b[0m\u001b[1;33m(\u001b[0m\u001b[0mfigsize\u001b[0m\u001b[1;33m=\u001b[0m\u001b[1;33m(\u001b[0m\u001b[1;36m5\u001b[0m\u001b[1;33m,\u001b[0m\u001b[1;36m5\u001b[0m\u001b[1;33m)\u001b[0m\u001b[1;33m)\u001b[0m\u001b[1;33m\u001b[0m\u001b[1;33m\u001b[0m\u001b[0m\n",
      "\u001b[1;31mIndexError\u001b[0m: index 8 is out of bounds for axis 0 with size 8"
     ]
    }
   ],
   "source": [
    "train_loss = np.zeros(2000)\n",
    "max_iterations=10000\n",
    "for step in range(max_iterations):\n",
    "    inp,out,gamma = get_train_sample()\n",
    "    out = np.array(out)\n",
    "    data = model.fit(inp,out,batch_size=1,verbose=0)\n",
    "\n",
    "    if step % 1000 == 0:\n",
    "        train_loss[step//1000] = data.history['loss'][0]\n",
    "    if step % 10000 == 0:\n",
    "        display.clear_output(wait=True)\n",
    "        display.display(pl.gcf())\n",
    "        print( 'step:', step)\n",
    "        print( 'loss:', data.history['loss'][0])\n",
    "        plt.title('Train Loss')\n",
    "        plt.plot(range(2000),train_loss)\n",
    "        plt.show()\n",
    "        mean_loss = np.zeros((100))\n",
    "        for i in range(100):\n",
    "            mean_loss[i] = np.mean(train_loss[i*20:(i+1)*20])\n",
    "        fig = plt.figure()\n",
    "        plt.title('Train Loss (Smoothed)')\n",
    "        plt.plot(range(100),mean_loss)\n",
    "        plt.show()\n",
    "        plt_predictions(0)"
   ]
  },
  {
   "cell_type": "code",
   "execution_count": null,
   "metadata": {},
   "outputs": [],
   "source": []
  }
 ],
 "metadata": {
  "kernelspec": {
   "display_name": "Python 3 (ipykernel)",
   "language": "python",
   "name": "python3"
  },
  "language_info": {
   "codemirror_mode": {
    "name": "ipython",
    "version": 3
   },
   "file_extension": ".py",
   "mimetype": "text/x-python",
   "name": "python",
   "nbconvert_exporter": "python",
   "pygments_lexer": "ipython3",
   "version": "3.7.6rc1"
  }
 },
 "nbformat": 4,
 "nbformat_minor": 2
}
