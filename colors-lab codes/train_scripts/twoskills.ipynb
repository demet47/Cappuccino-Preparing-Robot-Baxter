{
 "cells": [
  {
   "cell_type": "code",
   "execution_count": null,
   "id": "0b812aed",
   "metadata": {},
   "outputs": [],
   "source": [
    "import os\n",
    "import torch\n",
    "import torch.nn as nn\n",
    "import torch.nn.functional as F\n",
    "import torch.distributions as D\n",
    "import torch.optim as optim\n",
    "import numpy as np\n",
    "import matplotlib.pyplot as plt\n",
    "\n",
    "from models import LocallyWeightedCNP, CNP\n",
    "from data import TwoSkillsDataset"
   ]
  },
  {
   "cell_type": "code",
   "execution_count": null,
   "id": "b020c79e",
   "metadata": {},
   "outputs": [],
   "source": [
    "if not os.path.exists(\"out\"):\n",
    "    os.makedirs(\"out\")"
   ]
  },
  {
   "cell_type": "code",
   "execution_count": null,
   "id": "1b2869f6",
   "metadata": {},
   "outputs": [
    {
     "name": "stdout",
     "output_type": "stream",
     "text": [
      "cuda\n"
     ]
    }
   ],
   "source": [
    "if torch.cuda.is_available():\n",
    "    device = torch.device(\"cuda:0\")\n",
    "else:\n",
    "    device = torch.device(\"cpu\")\n",
    "\n",
    "print(device.type)\n",
    "\n",
    "# ---\n",
    "\n",
    "torch.manual_seed(42)\n",
    "np.random.seed(42)"
   ]
  },
  {
   "cell_type": "code",
   "execution_count": null,
   "id": "7ed8caf1",
   "metadata": {},
   "outputs": [],
   "source": [
    "trainset = TwoSkillsDataset(N=50)\n",
    "num_trajs, t_steps = trainset.N, trainset.data.shape[1]\n",
    "x_train, y_train = trainset.data[:trainset.N, :, [0]], trainset.data[:trainset.N, :, [1, 2]]\n",
    "x_val, y_val = trainset.data[trainset.N:, :, [0]], trainset.data[trainset.N:, :, [1, 2]]\n",
    "d_x, d_y = x_train.shape[-1], y_train.shape[-1]"
   ]
  },
  {
   "cell_type": "code",
   "execution_count": null,
   "id": "a30ca434",
   "metadata": {},
   "outputs": [],
   "source": [
    "model = LocallyWeightedCNP((d_x, d_y)).to(device)\n",
    "learning_rate = 1e-4\n",
    "optimizer = torch.optim.Adam(model.parameters(), lr=learning_rate)\n",
    "\n",
    "def predict_model(observations, x_target, plot=True, step=-1):    \n",
    "    with torch.no_grad():\n",
    "        y_pred, std_pred = model(observations, x_target)\n",
    "    \n",
    "    if plot:\n",
    "        fig = plt.figure(figsize=(5,5))\n",
    "        for j in range(num_trajs):\n",
    "            plt.plot(y_train[j, :, 0].cpu(), y_train[j, :, 1].cpu(), c=\"b\", alpha=0.1)\n",
    "        idx = 0\n",
    "        for _ in range(100):\n",
    "            y_sample = D.Normal(y_pred, std_pred).sample()\n",
    "            plt.scatter(y_sample[0, :, 0].cpu(), y_sample[0, :, 1].cpu(), c=torch.linspace(0, 1, 200).tolist(), alpha=0.1, s=10, cmap=\"jet\")\n",
    "        # plt.errorbar(x_val[idx, :, 0].cpu(), y_pred[idx, :, i].cpu(), yerr=std_pred[idx, :, i].cpu(), color = 'black', alpha=0.4)\n",
    "        plt.scatter(observations[idx, [0, -1], 1].cpu(), observations[idx, [0, -1], 2].cpu(), marker=\"X\", color='black')\n",
    "        plt.savefig(f'out/s{step}_val.png')\n",
    "        plt.close()\n",
    "    return y_pred, std_pred"
   ]
  },
  {
   "cell_type": "code",
   "execution_count": null,
   "id": "acc14d2e",
   "metadata": {
    "scrolled": false
   },
   "outputs": [
    {
     "data": {
      "text/plain": [
       "(-1.0, 7.0)"
      ]
     },
     "execution_count": 6,
     "metadata": {},
     "output_type": "execute_result"
    },
    {
     "data": {
      "image/png": "[encoded data removed]",
      "text/plain": [
       "<Figure size 432x288 with 1 Axes>"
      ]
     },
     "metadata": {
      "needs_background": "light"
     },
     "output_type": "display_data"
    }
   ],
   "source": [
    "x_t, y_t, x_mask, y_mask = trainset.get_sample(5, max_context=5, max_target=5)\n",
    "for i in range(5):\n",
    "    plt.scatter(x_t[i, :, 1], x_t[i, :, 2], marker=\"o\", c=\"b\", alpha=0.7)\n",
    "    plt.scatter(y_t[i, :, 1], y_t[i, :, 2], marker=\"x\", c=\"r\", alpha=0.7)\n",
    "plt.xlim((-1, 7))\n",
    "plt.ylim((-1, 7))"
   ]
  },
  {
   "cell_type": "code",
   "execution_count": null,
   "id": "259c0673",
   "metadata": {
    "scrolled": false
   },
   "outputs": [
    {
     "name": "stdout",
     "output_type": "stream",
     "text": [
      "Step: 0\n",
      "Step: 0. New validation best. Error: 6.415947437286377\n",
      "Step: 1000. New validation best. Error: 1.4572538137435913\n",
      "Step: 2000. New validation best. Error: 1.4322993755340576\n",
      "Step: 3000. New validation best. Error: 1.4234094619750977\n",
      "Step: 11000. New validation best. Error: 0.4124543070793152\n",
      "Step: 13000. New validation best. Error: 0.3109584450721741\n",
      "Step: 15000. New validation best. Error: 0.01848081313073635\n",
      "Step: 16000. New validation best. Error: -0.3572978675365448\n",
      "Step: 17000. New validation best. Error: -0.6313767433166504\n",
      "Step: 24000. New validation best. Error: -0.7300012707710266\n",
      "Step: 25000. New validation best. Error: -1.0030810832977295\n",
      "Step: 30000. New validation best. Error: -1.1597962379455566\n",
      "Step: 39000. New validation best. Error: -1.4862420558929443\n",
      "Step: 100000\n",
      "Step: 200000\n"
     ]
    }
   ],
   "source": [
    "smooth_losses = [0]\n",
    "losses = []\n",
    "loss_checkpoint = 1000\n",
    "loss_inform_checkpoint = 100000\n",
    "plot_checkpoint = 10000\n",
    "validation_checkpoint = 1000\n",
    "validation_error = 9999999\n",
    "\n",
    "val_observation = torch.zeros(2, 1, d_x+d_y, device=device)\n",
    "nof_val_trajs = x_val.shape[0]\n",
    "\n",
    "for step in range(5000000):\n",
    "    x_t, y_t, x_m, y_m = trainset.get_sample(10, max_context=5, max_target=10)\n",
    "    x_t = x_t.to(device)\n",
    "    y_t = y_t.to(device)\n",
    "    x_m = x_m.to(device)\n",
    "    y_m = y_m.to(device)\n",
    "    optimizer.zero_grad()\n",
    "    loss = model.nll_loss(x_t, y_t[..., :1], y_t[..., 1:])\n",
    "    loss.backward()\n",
    "    optimizer.step()\n",
    "    if step % loss_inform_checkpoint == 0:\n",
    "        print(f'Step: {step}')\n",
    "    \n",
    "    if step % loss_checkpoint == 0:\n",
    "        losses.append(loss.data.cpu())\n",
    "        smooth_losses[-1] += loss.data.cpu()/(plot_checkpoint/loss_checkpoint)\n",
    "    \n",
    "    if step % validation_checkpoint == 0:\n",
    "        xy_val = torch.cat([x_val, y_val], dim=-1)\n",
    "        current_error = model.nll_loss(xy_val[:, [0, -1]].to(device), x_val.to(device), y_val.to(device))  # only give the initial and the last timestep\n",
    "        if current_error < validation_error:\n",
    "            validation_error = current_error\n",
    "            torch.save(model.state_dict(), 'cnmp_best_validation.h5')\n",
    "            print(f'Step: {step}. New validation best. Error: {current_error}')\n",
    "        \n",
    "    if step % plot_checkpoint == 0:        \n",
    "        plt.figure(figsize=(15,5))\n",
    "        plt.subplot(121)\n",
    "        plt.title('Train Loss')\n",
    "        plt.plot(range(len(losses)),losses)\n",
    "        plt.subplot(122)\n",
    "        plt.title('Train Loss (Smoothed)')\n",
    "        plt.plot(range(len(smooth_losses)), smooth_losses)\n",
    "        plt.savefig(f'out/{step}.png')\n",
    "        plt.close()\n",
    "        \n",
    "        #plotting validation cases\n",
    "        predict_model(torch.tensor([[[0.0, 0.0, 6.0], [1.0, 0.0, 0.0]]], device=\"cuda\"), x_val[:1].to(device), plot=True, step=step)\n",
    "        predict_model(torch.tensor([[[0.0, 0.0, 0.0], [1.0, 6.0, 0.0]]], device=\"cuda\"), x_val[:1].to(device), plot=True, step=step+1)\n",
    "        predict_model(torch.tensor([[[0.0, 0.0, 6.0], [1.0, 6.0, 0.0]]], device=\"cuda\"), x_val[:1].to(device), plot=True, step=step+2)\n",
    "        \n",
    "        if step!=0:\n",
    "            smooth_losses.append(0)\n",
    "# print('Finished Training')"
   ]
  },
  {
   "cell_type": "code",
   "execution_count": null,
   "id": "6a0eefc7",
   "metadata": {},
   "outputs": [],
   "source": []
  }
 ],
 "metadata": {
  "kernelspec": {
   "display_name": "Python 3 (ipykernel)",
   "language": "python",
   "name": "python3"
  },
  "language_info": {
   "codemirror_mode": {
    "name": "ipython",
    "version": 3
   },
   "file_extension": ".py",
   "mimetype": "text/x-python",
   "name": "python",
   "nbconvert_exporter": "python",
   "pygments_lexer": "ipython3",
   "version": "3.7.6"
  }
 },
 "nbformat": 4,
 "nbformat_minor": 5
}
